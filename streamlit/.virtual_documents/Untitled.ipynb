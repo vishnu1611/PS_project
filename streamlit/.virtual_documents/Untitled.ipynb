import librosa
import whisper
import datetime
import subprocess
from pyannote.audio.pipelines.speaker_verification import PretrainedSpeakerEmbedding
from pyannote.audio import Audio
from pyannote.core import Segment
import wave
import contextlib
from sklearn.metrics.pairwise import cosine_similarity
import numpy as np

import torchaudio



